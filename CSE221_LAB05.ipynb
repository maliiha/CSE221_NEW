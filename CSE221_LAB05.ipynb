{
  "nbformat": 4,
  "nbformat_minor": 0,
  "metadata": {
    "colab": {
      "provenance": [],
      "authorship_tag": "ABX9TyN8NqNU4LXZKeUbg2FRKxdh",
      "include_colab_link": true
    },
    "kernelspec": {
      "name": "python3",
      "display_name": "Python 3"
    },
    "language_info": {
      "name": "python"
    }
  },
  "cells": [
    {
      "cell_type": "markdown",
      "metadata": {
        "id": "view-in-github",
        "colab_type": "text"
      },
      "source": [
        "<a href=\"https://colab.research.google.com/github/maliiha/CSE221_NEW/blob/main/CSE221_LAB05.ipynb\" target=\"_parent\"><img src=\"https://colab.research.google.com/assets/colab-badge.svg\" alt=\"Open In Colab\"/></a>"
      ]
    },
    {
      "cell_type": "markdown",
      "source": [
        "TASK:01"
      ],
      "metadata": {
        "id": "99xN3ZFlf8ao"
      }
    },
    {
      "cell_type": "markdown",
      "source": [
        "(A)"
      ],
      "metadata": {
        "id": "royTDxblgHTQ"
      }
    },
    {
      "cell_type": "code",
      "source": [
        "test_file = open(\"/content/input1(a).txt\", mode =\"r\")\n",
        "result_file = open(\"/content/output1(a).txt\",mode = \"w\")\n",
        "\n",
        "test_file.close()\n",
        "result_file.close()"
      ],
      "metadata": {
        "id": "fUnHoWTof8kq"
      },
      "execution_count": null,
      "outputs": []
    }
  ]
}
{
  "nbformat": 4,
  "nbformat_minor": 0,
  "metadata": {
    "colab": {
      "provenance": [],
      "authorship_tag": "ABX9TyMEZPw7fgbSUVToSbE7RalY",
      "include_colab_link": true
    },
    "kernelspec": {
      "name": "python3",
      "display_name": "Python 3"
    },
    "language_info": {
      "name": "python"
    }
  },
  "cells": [
    {
      "cell_type": "markdown",
      "metadata": {
        "id": "view-in-github",
        "colab_type": "text"
      },
      "source": [
        "<a href=\"https://colab.research.google.com/github/maliiha/CSE221_NEW/blob/main/CSE221_LAB03.ipynb\" target=\"_parent\"><img src=\"https://colab.research.google.com/assets/colab-badge.svg\" alt=\"Open In Colab\"/></a>"
      ]
    },
    {
      "cell_type": "markdown",
      "source": [
        "task:01"
      ],
      "metadata": {
        "id": "BXHHein0br0L"
      }
    },
    {
      "cell_type": "code",
      "source": [
        "test_file = open (\"/content/input1.txt\" , mode = \"r\")\n",
        "result_file = open (\"/content/output1.txt\" , mode = \"w\")\n",
        "line1 = int(test_file.readline())\n",
        "height = list(map(int,test_file.readline().split(\" \")))\n",
        "def merge_sort(arr):\n",
        "    if(len(arr) <= 1):\n",
        "        return arr , 0\n",
        "    else:\n",
        "        mid = len(arr)//2\n",
        "        left , count_left = merge_sort(arr[:mid])\n",
        "        right , count_right = merge_sort(arr[mid:])\n",
        "        arr , count = merge(left , right)\n",
        "        return arr , count_left + count_right + count\n",
        "def merge (arr1 , arr2):\n",
        "    count = 0\n",
        "    arr = [0] * (len(arr1) + len(arr2))\n",
        "    i = 0\n",
        "    j = 0\n",
        "    k = 0\n",
        "    while (i < len(arr1) and j < (len(arr2))):\n",
        "        if(arr1[i] <= arr2[j]):\n",
        "            arr[k] = arr1[i]\n",
        "            i+=1\n",
        "        else:\n",
        "            arr[k] = arr2[j]\n",
        "            count+= len(arr1) - i\n",
        "            j+=1\n",
        "        k+=1\n",
        "    while ( i < (len(arr1))):\n",
        "        arr[k] = arr1[i]\n",
        "        i+=1\n",
        "        k+=1\n",
        "    while ( j < len(arr2)):\n",
        "        arr[k] = arr2[j]\n",
        "        j+=1\n",
        "        k+=1\n",
        "    return arr , count\n",
        "temp1 = merge_sort(height)\n",
        "result_file.write(f\"{str(temp1[-1])}\")\n",
        "test_file.close()\n",
        "result_file.close()"
      ],
      "metadata": {
        "id": "0tcpFeR4bsJf"
      },
      "execution_count": 58,
      "outputs": []
    },
    {
      "cell_type": "markdown",
      "source": [
        "task:02"
      ],
      "metadata": {
        "id": "MC1Mznu_tSpJ"
      }
    },
    {
      "cell_type": "code",
      "source": [
        "test_file = open (\"/content/input2.txt\" , mode = \"r\")\n",
        "result_file = open (\"/content/output2.txt\" , mode =\"w\")\n",
        "line1 = int(test_file.readline())\n",
        "list1 = list(map(int , test_file.readline().split(\" \")))\n",
        "def find_max_sum (arr):\n",
        "    mid = len(arr) // 2\n",
        "    if(len(arr) == 1):\n",
        "        return -1\n",
        "    elif(len(arr) == 2):\n",
        "        return arr[0] + (arr[1])**2\n",
        "    else:\n",
        "        left_max_value = find_max_sum(arr[:mid])\n",
        "        right_max_value = find_max_sum(arr[mid:])\n",
        "    max_sum = max(arr[:mid]) + (max(arr[mid:] , key = abs))**2\n",
        "    return max(left_max_value , right_max_value , max_sum)\n",
        "temp = find_max_sum(list1)\n",
        "result_file.write(f\"{temp}\")\n",
        "test_file.close()\n",
        "result_file.close()"
      ],
      "metadata": {
        "id": "qwQVM2cKOz87"
      },
      "execution_count": 59,
      "outputs": []
    },
    {
      "cell_type": "markdown",
      "source": [
        "task:03"
      ],
      "metadata": {
        "id": "yd8DX8Gdburb"
      }
    },
    {
      "cell_type": "code",
      "source": [
        "test_file = open(\"/content/input3.txt\" , mode = \"r\")\n",
        "result_file = open(\"/content/output3.txt\" , mode = \"w\")\n",
        "line1 = int(test_file.readline())\n",
        "list1 = list(map(int , test_file.readline().split(\" \")))\n",
        "def partition (arr , low , high):\n",
        "    pivot = arr[high]\n",
        "    pivot_index = low -1\n",
        "    for i in range(low , high):\n",
        "        if(arr[i] <= pivot):\n",
        "            pivot_index+=1\n",
        "            arr[pivot_index] , arr[i] = arr[i] , arr[pivot_index]\n",
        "    arr[pivot_index+1] , arr[high] = arr[high] , arr[pivot_index +1]\n",
        "    return pivot_index +1\n",
        "def quicksort (arr , low , high):\n",
        "    if(low < high) :\n",
        "        pivot_index = partition(arr , low , high)\n",
        "        quicksort(arr , low , pivot_index -1)\n",
        "        quicksort(arr , pivot_index+1 , high)\n",
        "    return arr\n",
        "temp = quicksort(list1 , 0 , len(list1)-1)\n",
        "for i in temp:\n",
        "    result_file.write(f\"{str(i)} \")\n",
        "test_file.close()\n",
        "result_file.close()"
      ],
      "metadata": {
        "id": "zjvifTbG7fVS"
      },
      "execution_count": 61,
      "outputs": []
    },
    {
      "cell_type": "markdown",
      "source": [
        "task:04"
      ],
      "metadata": {
        "id": "eC4e2nrw_LIq"
      }
    },
    {
      "cell_type": "code",
      "source": [],
      "metadata": {
        "id": "tJZHy0ny_MSo"
      },
      "execution_count": null,
      "outputs": []
    }
  ]
}
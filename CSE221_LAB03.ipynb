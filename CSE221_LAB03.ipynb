{
  "nbformat": 4,
  "nbformat_minor": 0,
  "metadata": {
    "colab": {
      "provenance": [],
      "authorship_tag": "ABX9TyOiayZJ9QSSSy3MUV35AFRI",
      "include_colab_link": true
    },
    "kernelspec": {
      "name": "python3",
      "display_name": "Python 3"
    },
    "language_info": {
      "name": "python"
    }
  },
  "cells": [
    {
      "cell_type": "markdown",
      "metadata": {
        "id": "view-in-github",
        "colab_type": "text"
      },
      "source": [
        "<a href=\"https://colab.research.google.com/github/maliiha/CSE221_NEW/blob/main/CSE221_LAB03.ipynb\" target=\"_parent\"><img src=\"https://colab.research.google.com/assets/colab-badge.svg\" alt=\"Open In Colab\"/></a>"
      ]
    },
    {
      "cell_type": "markdown",
      "source": [
        "task:01"
      ],
      "metadata": {
        "id": "BXHHein0br0L"
      }
    },
    {
      "cell_type": "code",
      "source": [
        "test_file = open (\"/content/input1.txt\" , mode = \"r\")\n",
        "result_file = open (\"/content/output1.txt\" , mode = \"w\")\n",
        "line1 = int(test_file.readline())\n",
        "height = list(map(int,test_file.readline().split(\" \")))\n",
        "def merge_sort(arr):\n",
        "    if(len(arr) <= 1):\n",
        "        return arr , 0\n",
        "    else:\n",
        "        mid = len(arr)//2\n",
        "        left , count_left = merge_sort(arr[:mid])\n",
        "        right , count_right = merge_sort(arr[mid:])\n",
        "        arr , count = merge(left , right)\n",
        "        return arr , count_left + count_right + count\n",
        "def merge (arr1 , arr2):\n",
        "    count = 0\n",
        "    arr = [0] * (len(arr1) + len(arr2))\n",
        "    i = 0\n",
        "    j = 0\n",
        "    k = 0\n",
        "    while (i < len(arr1) and j < (len(arr2))):\n",
        "        if(arr1[i] <= arr2[j]):\n",
        "            arr[k] = arr1[i]\n",
        "            i+=1\n",
        "        else:\n",
        "            arr[k] = arr2[j]\n",
        "            count+= len(arr1) - i\n",
        "            j+=1\n",
        "        k+=1\n",
        "    while ( i < (len(arr1))):\n",
        "        arr[k] = arr1[i]\n",
        "        i+=1\n",
        "        k+=1\n",
        "    while ( j < len(arr2)):\n",
        "        arr[k] = arr2[j]\n",
        "        j+=1\n",
        "        k+=1\n",
        "    return arr , count\n",
        "temp1 = merge_sort(height)\n",
        "result_file.write(f\"{str(temp1[-1])}\")\n",
        "test_file.close()\n",
        "result_file.close()"
      ],
      "metadata": {
        "id": "0tcpFeR4bsJf"
      },
      "execution_count": 32,
      "outputs": []
    },
    {
      "cell_type": "markdown",
      "source": [
        "task:02"
      ],
      "metadata": {
        "id": "MC1Mznu_tSpJ"
      }
    },
    {
      "cell_type": "code",
      "source": [
        "test_file = open (\"/content/input2.txt\" , mode = \"r\")\n",
        "result_file = open (\"/content/output2.txt\" , mode =\"w\")\n",
        "line1 = int(test_file.readline())\n",
        "list1 = list(map(int , test_file.readline().split(\" \")))\n",
        "max_sum = 0\n",
        "for i in range(line1-1):\n",
        "    sum = list1[i] + list1[i+1]**2\n",
        "    if(sum > max_sum):\n",
        "        max_sum = sum\n",
        "print(max_sum)\n",
        "test_file.close()\n",
        "result_file.close()"
      ],
      "metadata": {
        "id": "qwQVM2cKOz87",
        "outputId": "77996986-002a-4811-dc51-e18a0ab4bcdc",
        "colab": {
          "base_uri": "https://localhost:8080/"
        }
      },
      "execution_count": 44,
      "outputs": [
        {
          "output_type": "stream",
          "name": "stdout",
          "text": [
            "69\n"
          ]
        }
      ]
    },
    {
      "cell_type": "code",
      "source": [
        "def find_max_sum(A):\n",
        "    N = len(A)\n",
        "    max_sum = float('-inf')\n",
        "    max_index = -1\n",
        "\n",
        "    # Find the maximum and second maximum elements\n",
        "    max_value = max(A)\n",
        "    second_max_value = float('-inf')\n",
        "\n",
        "    for i in range(N):\n",
        "        if A[i] != max_value and A[i] > second_max_value:\n",
        "            second_max_value = A[i]\n",
        "            max_index = i\n",
        "\n",
        "    max_sum = max_value + (second_max_value) ** 2\n",
        "\n",
        "    return max_sum, [max_index + 1, A.index(max_value) + 1]\n",
        "\n",
        "# Example usage\n",
        "A = [9, 6, 5, 8, 2]\n",
        "max_sum, max_indices = find_max_sum(A)\n",
        "print(\"Maximum sum:\", max_sum)\n",
        "print(\"Indices:\", max_indices)"
      ],
      "metadata": {
        "id": "Ua9P5_PsWyp9",
        "outputId": "14fe29dc-dd37-4b38-8be9-8c830175091b",
        "colab": {
          "base_uri": "https://localhost:8080/"
        }
      },
      "execution_count": 46,
      "outputs": [
        {
          "output_type": "stream",
          "name": "stdout",
          "text": [
            "Maximum sum: 73\n",
            "Indices: [4, 1]\n"
          ]
        }
      ]
    }
  ]
}
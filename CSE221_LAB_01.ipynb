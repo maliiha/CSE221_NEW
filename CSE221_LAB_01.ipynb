{
  "nbformat": 4,
  "nbformat_minor": 0,
  "metadata": {
    "colab": {
      "provenance": [],
      "authorship_tag": "ABX9TyPl1sjXvaWIZAygTfjXH8qZ",
      "include_colab_link": true
    },
    "kernelspec": {
      "name": "python3",
      "display_name": "Python 3"
    },
    "language_info": {
      "name": "python"
    }
  },
  "cells": [
    {
      "cell_type": "markdown",
      "metadata": {
        "id": "view-in-github",
        "colab_type": "text"
      },
      "source": [
        "<a href=\"https://colab.research.google.com/github/maliiha/CSE221_NEW/blob/main/CSE221_LAB_01.ipynb\" target=\"_parent\"><img src=\"https://colab.research.google.com/assets/colab-badge.svg\" alt=\"Open In Colab\"/></a>"
      ]
    },
    {
      "cell_type": "markdown",
      "source": [
        "TASK:01(a)"
      ],
      "metadata": {
        "id": "hkUHHS9ZkXCo"
      }
    },
    {
      "cell_type": "code",
      "execution_count": null,
      "metadata": {
        "id": "za9_f2FoYDJ3"
      },
      "outputs": [],
      "source": [
        "test_file = open (\"/content/input1a.txt\" , mode = \"r\")\n",
        "result_file = open (\"/content/output1a.txt\" , mode = \"w\")\n",
        "v = int(test_file.readline())\n",
        "for i in range (v):\n",
        "  t = int(test_file.readline())\n",
        "  if( t % 2 == 0 ):\n",
        "    result_file.write(f\"{t} is an Even number.\\n\")\n",
        "  else:\n",
        "    result_file.write(f\"{t} is an Odd number.\\n\")\n",
        "test_file.close()\n",
        "result_file.close()"
      ]
    },
    {
      "cell_type": "markdown",
      "source": [
        "TASK:01(b)"
      ],
      "metadata": {
        "id": "NedLIYJYkgE-"
      }
    },
    {
      "cell_type": "code",
      "source": [
        "test_file = open (\"/content/input1b.txt\" , mode = \"r\")\n",
        "result_file = open (\"/content/output1b.txt\" , mode = \"w\")\n",
        "v = int(test_file.readline())\n",
        "for i in range(v):\n",
        "  t = test_file.readline()\n",
        "  words = t[10:]\n",
        "  first = words[:2]\n",
        "  last = words[-3::1].strip()\n",
        "  if(\"+\" in words):\n",
        "    summation = int(first) + int(last)\n",
        "    result_file.write(f\"The result of {words.strip()} is {summation}\\n\")\n",
        "  elif(\"-\" in words):\n",
        "    subtraction = int(first) - int(last)\n",
        "    result_file.write(f\"The result of {words.strip()} is {subtraction}\\n\")\n",
        "  elif (\"*\" in words):\n",
        "    multiplication = int(first) * int(last)\n",
        "    result_file.write(f\"The result of {words.strip()} is {multiplication}\\n\")\n",
        "  else:\n",
        "    division = int(first) / int(last)\n",
        "    result_file.write(f\"The result of {words.strip()} is {division}\\n\")\n",
        "test_file.close()\n",
        "result_file.close()"
      ],
      "metadata": {
        "id": "yNpopWP1kicm"
      },
      "execution_count": null,
      "outputs": []
    },
    {
      "cell_type": "markdown",
      "source": [
        "TASK:02"
      ],
      "metadata": {
        "id": "A86MpSBCwiDu"
      }
    },
    {
      "cell_type": "code",
      "source": [
        "test_file = open (\"/content/input2.txt\" , mode = \"r\")\n",
        "result_file = open (\"/content/output2.txt\" , mode = \"w\")\n",
        "v = test_file.read()\n",
        "list1 = list(map(int,v.split()[1:]))\n",
        "def bubbleSort(arr):\n",
        "  flag = 0\n",
        "  i = len(arr) - 1\n",
        "  while i>=0:\n",
        "    for j in range(0,i):\n",
        "      if(arr[j] > arr[j+1]):\n",
        "        flag = 1\n",
        "        arr[j] , arr[j+1] = arr[j+1] , arr[j]\n",
        "    i-= 1\n",
        "    if( flag == 0):\n",
        "      break\n",
        "  result_file.write(f\"{arr}\")\n",
        "x = bubbleSort(list1)\n",
        "test_file.close()\n",
        "result_file.close()"
      ],
      "metadata": {
        "id": "46FNfjY-wmk3"
      },
      "execution_count": null,
      "outputs": []
    },
    {
      "cell_type": "markdown",
      "source": [
        "TASK:03"
      ],
      "metadata": {
        "id": "hE7Pd5imjHWX"
      }
    },
    {
      "cell_type": "code",
      "source": [
        "test_file = open(\"/content/input3.txt\" , mode =\"r\")\n",
        "result_file = open (\"/content/output3.txt\" , mode = \"w\")\n",
        "def SelectionSort( id , marks):\n",
        "  i = len(id) - 1\n",
        "  while(i>=0):\n",
        "    max_idx = i\n",
        "    max_number = marks[i]\n",
        "    ID = id[i]\n",
        "    for j in range(0,i):\n",
        "      if(marks[j] > max_number ):\n",
        "        max_idx = j\n",
        "        max_number = marks[j]\n",
        "        ID = id[j]\n",
        "        marks[j] , marks[max_idx] = marks[max_idx] , marks[j]\n",
        "      elif(marks[j] == max_number):\n",
        "        if(ID < id[j] ):\n",
        "          max_idx = j\n",
        "          max_number = marks[j]\n",
        "          ID = id[j]\n",
        "    i-=1\n",
        "  return id , marks\n",
        "v = int(test_file.readline())\n",
        "id = list(map(int,test_file.readline().split(\" \") ))\n",
        "marks = list(map(int, test_file.readline().split(\" \")))\n",
        "result = SelectionSort( id , marks)\n",
        "for k in range(v):\n",
        "  result_file.write(f\"ID:{id} Mark:{marks}\\n\")\n",
        "test_file.close()\n",
        "result_file.close()"
      ],
      "metadata": {
        "id": "oIGSnxjKjITv"
      },
      "execution_count": 44,
      "outputs": []
    },
    {
      "cell_type": "code",
      "source": [],
      "metadata": {
        "id": "sPnJu-1tJv5A"
      },
      "execution_count": 56,
      "outputs": []
    }
  ]
}
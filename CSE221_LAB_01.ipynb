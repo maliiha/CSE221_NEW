{
  "nbformat": 4,
  "nbformat_minor": 0,
  "metadata": {
    "colab": {
      "provenance": [],
      "authorship_tag": "ABX9TyMPkcj4wpUcLUMi08xDvzDa",
      "include_colab_link": true
    },
    "kernelspec": {
      "name": "python3",
      "display_name": "Python 3"
    },
    "language_info": {
      "name": "python"
    }
  },
  "cells": [
    {
      "cell_type": "markdown",
      "metadata": {
        "id": "view-in-github",
        "colab_type": "text"
      },
      "source": [
        "<a href=\"https://colab.research.google.com/github/maliiha/CSE221_NEW/blob/main/CSE221_LAB_01.ipynb\" target=\"_parent\"><img src=\"https://colab.research.google.com/assets/colab-badge.svg\" alt=\"Open In Colab\"/></a>"
      ]
    },
    {
      "cell_type": "markdown",
      "source": [
        "TASK:01(a)"
      ],
      "metadata": {
        "id": "hkUHHS9ZkXCo"
      }
    },
    {
      "cell_type": "code",
      "execution_count": null,
      "metadata": {
        "id": "za9_f2FoYDJ3"
      },
      "outputs": [],
      "source": [
        "test_file = open (\"/content/input1a.txt\" , mode = \"r\")\n",
        "result_file = open (\"/content/output1a.txt\" , mode = \"w\")\n",
        "v = int(test_file.readline())\n",
        "for i in range (v):\n",
        "  t = int(test_file.readline())\n",
        "  if( t % 2 == 0 ):\n",
        "    result_file.write(f\"{t} is an Even number.\\n\")\n",
        "  else:\n",
        "    result_file.write(f\"{t} is an Odd number.\\n\")\n",
        "test_file.close()\n",
        "result_file.close()"
      ]
    },
    {
      "cell_type": "markdown",
      "source": [
        "TASK:01(b)"
      ],
      "metadata": {
        "id": "NedLIYJYkgE-"
      }
    },
    {
      "cell_type": "code",
      "source": [
        "test_file = open (\"/content/input1b.txt\" , mode = \"r\")\n",
        "result_file = open (\"/content/output1b.txt\" , mode = \"w\")\n",
        "v = int(test_file.readline())\n",
        "for i in range(v):\n",
        "  t = test_file.readline()\n",
        "  words = t[10:]\n",
        "  first = words[:2]\n",
        "  last = words[-3::1].strip()\n",
        "  if(\"+\" in words):\n",
        "    summation = int(first) + int(last)\n",
        "    result_file.write(f\"The result of {words.strip()} is {summation}\\n\")\n",
        "  elif(\"-\" in words):\n",
        "    subtraction = int(first) - int(last)\n",
        "    result_file.write(f\"The result of {words.strip()} is {subtraction}\\n\")\n",
        "  elif (\"*\" in words):\n",
        "    multiplication = int(first) * int(last)\n",
        "    result_file.write(f\"The result of {words.strip()} is {multiplication}\\n\")\n",
        "  else:\n",
        "    division = int(first) / int(last) \n",
        "    result_file.write(f\"The result of {words.strip()} is {division}\\n\")\n",
        "test_file.close()\n",
        "result_file.close()"
      ],
      "metadata": {
        "id": "yNpopWP1kicm"
      },
      "execution_count": 42,
      "outputs": []
    },
    {
      "cell_type": "markdown",
      "source": [
        "TASK:02"
      ],
      "metadata": {
        "id": "A86MpSBCwiDu"
      }
    },
    {
      "cell_type": "code",
      "source": [],
      "metadata": {
        "id": "46FNfjY-wmk3"
      },
      "execution_count": null,
      "outputs": []
    }
  ]
}
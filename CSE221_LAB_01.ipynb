{
  "nbformat": 4,
  "nbformat_minor": 0,
  "metadata": {
    "colab": {
      "provenance": [],
      "authorship_tag": "ABX9TyOWh7McArKkOGui0NWAaity",
      "include_colab_link": true
    },
    "kernelspec": {
      "name": "python3",
      "display_name": "Python 3"
    },
    "language_info": {
      "name": "python"
    }
  },
  "cells": [
    {
      "cell_type": "markdown",
      "metadata": {
        "id": "view-in-github",
        "colab_type": "text"
      },
      "source": [
        "<a href=\"https://colab.research.google.com/github/maliiha/CSE221_NEW/blob/main/CSE221_LAB_01.ipynb\" target=\"_parent\"><img src=\"https://colab.research.google.com/assets/colab-badge.svg\" alt=\"Open In Colab\"/></a>"
      ]
    },
    {
      "cell_type": "markdown",
      "source": [
        "TASK:01(a)"
      ],
      "metadata": {
        "id": "hkUHHS9ZkXCo"
      }
    },
    {
      "cell_type": "code",
      "execution_count": null,
      "metadata": {
        "id": "za9_f2FoYDJ3"
      },
      "outputs": [],
      "source": [
        "test_file = open (\"/content/input1a.txt\" , mode = \"r\")\n",
        "result_file = open (\"/content/output1a.txt\" , mode = \"w\")\n",
        "v = int(test_file.readline())\n",
        "for i in range (v):\n",
        "  t = int(test_file.readline())\n",
        "  if( t % 2 == 0 ):\n",
        "    result_file.write(f\"{t} is an Even number.\\n\")\n",
        "  else:\n",
        "    result_file.write(f\"{t} is an Odd number.\\n\")\n",
        "result_file.close()"
      ]
    },
    {
      "cell_type": "markdown",
      "source": [
        "TASK:01(b)"
      ],
      "metadata": {
        "id": "NedLIYJYkgE-"
      }
    },
    {
      "cell_type": "code",
      "source": [],
      "metadata": {
        "id": "yNpopWP1kicm"
      },
      "execution_count": null,
      "outputs": []
    }
  ]
}
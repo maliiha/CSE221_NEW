{
  "nbformat": 4,
  "nbformat_minor": 0,
  "metadata": {
    "colab": {
      "provenance": [],
      "authorship_tag": "ABX9TyNmA4SdMEj4zqqcuFWhi2oJ",
      "include_colab_link": true
    },
    "kernelspec": {
      "name": "python3",
      "display_name": "Python 3"
    },
    "language_info": {
      "name": "python"
    }
  },
  "cells": [
    {
      "cell_type": "markdown",
      "metadata": {
        "id": "view-in-github",
        "colab_type": "text"
      },
      "source": [
        "<a href=\"https://colab.research.google.com/github/maliiha/CSE221_NEW/blob/main/CSE221_LAB_04.ipynb\" target=\"_parent\"><img src=\"https://colab.research.google.com/assets/colab-badge.svg\" alt=\"Open In Colab\"/></a>"
      ]
    },
    {
      "cell_type": "markdown",
      "source": [
        "**TASK:01 (a)**"
      ],
      "metadata": {
        "id": "48XJAyUz2on9"
      }
    },
    {
      "cell_type": "code",
      "source": [
        "test_file = open (\"/content/input1(a).txt\" , mode =\"r\")\n",
        "result_file = open (\"/content/output1(a).txt\" , mode =\"w\")\n",
        "n , m = map(int, test_file.readline().split(\" \"))\n",
        "adj_matrix = [[0] * (n+1) for i in range(n+1)]\n",
        "for i in range(m):\n",
        "    u , v , w = map(int , test_file.readline().split(\" \"))\n",
        "    adj_matrix[u][v] = w\n",
        "for i in adj_matrix:\n",
        "    matrix = \"\"\n",
        "    for j in range(n+1):\n",
        "        matrix += str(i[j]) + \" \"\n",
        "    result_file.write(f\"{matrix} \\n\")\n",
        "test_file.close()\n",
        "result_file.close()"
      ],
      "metadata": {
        "id": "g3Amvxa92tq4"
      },
      "execution_count": null,
      "outputs": []
    },
    {
      "cell_type": "markdown",
      "source": [
        "**TASK:01 (b)**"
      ],
      "metadata": {
        "id": "0tCSUGY67qqC"
      }
    },
    {
      "cell_type": "code",
      "source": [
        "test_file = open(\"/content/input1(b).txt\" , mode = \"r\")\n",
        "result_file = open (\"/content/output1(b).txt\" , mode = \"w\")\n",
        "n , m = map(int , test_file.readline().split(\" \"))\n",
        "list1 = [[] * (n+1) for i in range(n+1)]\n",
        "for i in range(m):\n",
        "    u , v , w = map(int, test_file.readline().split(\" \"))\n",
        "    list1[u] += [(v , w)]\n",
        "for i in range(0 , len(list1)):\n",
        "    adj_list = str(i) + \" \" + \":\" + \" \"\n",
        "    for j in list1[i]:\n",
        "        adj_list += f\"{j}\"\n",
        "    result_file.write(f\"{adj_list} \\n\")\n",
        "test_file.close()\n",
        "result_file.close()"
      ],
      "metadata": {
        "id": "mGmwbGX2BKHP"
      },
      "execution_count": null,
      "outputs": []
    },
    {
      "cell_type": "markdown",
      "source": [
        "**TASK:02**"
      ],
      "metadata": {
        "id": "24u9MQwxqNSf"
      }
    },
    {
      "cell_type": "code",
      "source": [
        "test_file = open(\"/content/input2.txt\" , mode = \"r\")\n",
        "result_file = open(\"/content/output2.txt\" , mode = \"w\")\n",
        "n , m = map(int , test_file.readline().split(\" \"))\n",
        "adj_list = [[] * (n+1) for i in range(n+1)]\n",
        "for i in range(m):\n",
        "    u , v = map(int , test_file.readline().split(\" \"))\n",
        "    adj_list[u] += [v]\n",
        "    adj_list[v] += [u]\n",
        "def BFS (adj_list , source):\n",
        "    queue = []\n",
        "    dequeue = []\n",
        "    visited = [0] * len(adj_list)\n",
        "    queue.append(source)\n",
        "    visited[source] = 1\n",
        "    while (len(queue) != 0):\n",
        "        node = queue.pop(0)                     #eikhane dequeue\n",
        "        dequeue.append(node)                    #result printing er jonno append kortesi\n",
        "        for i in range(len(adj_list[node])):    #neighbour khujtesi\n",
        "            if(visited[adj_list[node][i]] == 0):\n",
        "                visited[adj_list[node][i]] = 1\n",
        "                queue.append(adj_list[node][i])\n",
        "    return dequeue\n",
        "temp = BFS(adj_list , 1)\n",
        "for i in range(len(temp)):\n",
        "    if(i <= len(temp) - 1):\n",
        "        result_file.write(f\"{temp[i]}\\n\")\n",
        "    else:\n",
        "        result_file.write(f\"{temp[i]}\")\n",
        "test_file.close()\n",
        "result_file.close()"
      ],
      "metadata": {
        "id": "OHNIrZuaVbk5"
      },
      "execution_count": null,
      "outputs": []
    },
    {
      "cell_type": "markdown",
      "source": [
        "task:03"
      ],
      "metadata": {
        "id": "Vw4W7A9Ib1Xq"
      }
    },
    {
      "cell_type": "code",
      "source": [
        "inp = open('/content/input3.txt','r')\n",
        "out = open('/content/output3.txt','w')\n",
        "V, e = map(int, inp.readline().strip().split(\" \"))\n",
        "adjList = [[] for j in range(V+1)]\n",
        "for j in range(e):\n",
        "    indices=list(map(int,inp.readline().split()))\n",
        "    i=indices[0]\n",
        "    j=indices[1]\n",
        "    adjList[i].append(j)\n",
        "    adjList[j].append(i)\n",
        "def DFS(adjL,s,V):\n",
        "   stack=[]\n",
        "   color=[\"white\"]*(V+1)\n",
        "   for u in range(1,(V+1)):\n",
        "     if color[u]=='white':\n",
        "       stack.append(u)\n",
        "       DFSvisit(adjL,u,stack,color)\n",
        "   return stack\n",
        "def DFSvisit(adjL,curr,stack,color):\n",
        "    color[curr]='grey'\n",
        "    for v in adjL[curr]:\n",
        "        if color[v]=='white':\n",
        "          stack.append(v)\n",
        "          DFSvisit(adjL,v,stack,color)\n",
        "    color[curr]='black'\n",
        "dfsList = DFS(adjList, 1,V)\n",
        "print('dfs order:',dfsList)"
      ],
      "metadata": {
        "colab": {
          "base_uri": "https://localhost:8080/"
        },
        "id": "RGIkY2PFdVA3",
        "outputId": "3e0ac305-7689-453b-f044-af17f220f9ec"
      },
      "execution_count": null,
      "outputs": [
        {
          "output_type": "stream",
          "name": "stdout",
          "text": [
            "dfs order: [1, 3, 2, 4]\n"
          ]
        }
      ]
    },
    {
      "cell_type": "markdown",
      "source": [
        "task:04"
      ],
      "metadata": {
        "id": "SV3hOnlgb33d"
      }
    },
    {
      "cell_type": "code",
      "source": [
        "\n",
        "inp = open('/content/input4.txt','r')\n",
        "out = open('/content/output4.txt','w')\n",
        "V, e = map(int, inp.readline().strip().split(\" \"))\n",
        "\n",
        "adjList = [[] for j in range(V+1)]\n",
        "for j in range(e):\n",
        "    indices=list(map(int,inp.readline().split()))\n",
        "    i=indices[0]\n",
        "    j=indices[1]\n",
        "    adjList[i].append(j)\n",
        "#print(adjList)\n",
        "\n",
        "\n",
        "\n",
        "def DFS(adjL,s,V):\n",
        "   color=[\"white\"]*(V+1)\n",
        "   global cycle\n",
        "   cycle='No'\n",
        "\n",
        "   for u in range(1,(V+1)):\n",
        "     if color[u]=='white':\n",
        "       #time+=1\n",
        "       DFSvisit(adjL,u,color)\n",
        "\n",
        "\n",
        "\n",
        "def DFSvisit(adjL,curr,color):\n",
        "    color[curr]='grey'\n",
        "    for v in adjL[curr]:\n",
        "        if color[v]=='white':\n",
        "          DFSvisit(adjL,v,color)\n",
        "        elif color[v]=='grey':\n",
        "          global cycle\n",
        "          cycle='yes'\n",
        "    color[curr]='black'\n",
        "\n",
        "\n",
        "\n",
        "dfsList = DFS(adjList, 1,V)\n",
        "print(cycle)"
      ],
      "metadata": {
        "colab": {
          "base_uri": "https://localhost:8080/"
        },
        "id": "yKcJkFTNyrws",
        "outputId": "e6672c4d-7645-40f1-e497-6c447b7503d6"
      },
      "execution_count": null,
      "outputs": [
        {
          "output_type": "stream",
          "name": "stdout",
          "text": [
            "No\n"
          ]
        }
      ]
    },
    {
      "cell_type": "markdown",
      "source": [
        "task:05"
      ],
      "metadata": {
        "id": "Do_bXkafcAT5"
      }
    },
    {
      "cell_type": "code",
      "source": [
        "inp = open('/content/input5.txt','r')\n",
        "out = open('/content/output5.txt','w')\n",
        "n, m, d = map(int, inp.readline().strip().split(\" \"))\n",
        "\n",
        "adjList = [[] for j in range(n+1)]\n",
        "for j in range(m):\n",
        "    indices=list(map(int,inp.readline().split()))\n",
        "    i=indices[0]\n",
        "    j=indices[1]\n",
        "    adjList[i].append(j)\n",
        "    adjList[j].append(i)\n",
        "\n",
        "def BFS(adjL, s):\n",
        "    queue = []\n",
        "    dis= [10**8]*len(adjL)\n",
        "    sp=['']*len(adjL)  #shortest path\n",
        "    queue.append(s)\n",
        "    dis[s] = 0\n",
        "    sp[s]=str(s)\n",
        "    while len(queue)!=0:\n",
        "       node = queue.pop(0)\n",
        "       for val in adjL[node]:\n",
        "           if dis[node]+1 < dis[val]:\n",
        "               dis[val]=dis[node]+1\n",
        "               sp[val]+=sp[node]+f' {str(val)}'\n",
        "               queue.append(val)\n",
        "    return dis,sp\n",
        "\n",
        "bfsList = BFS(adjList, 1)\n",
        "time,short_path=bfsList\n",
        "print('Time:',time[d],'\\nshortest path:',short_path[d])"
      ],
      "metadata": {
        "id": "0VTskEtI5htl"
      },
      "execution_count": null,
      "outputs": []
    }
  ]
}
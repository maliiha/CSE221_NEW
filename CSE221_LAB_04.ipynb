{
  "nbformat": 4,
  "nbformat_minor": 0,
  "metadata": {
    "colab": {
      "provenance": [],
      "authorship_tag": "ABX9TyNO8RS9KaZzYIWjB7tdyA4Y",
      "include_colab_link": true
    },
    "kernelspec": {
      "name": "python3",
      "display_name": "Python 3"
    },
    "language_info": {
      "name": "python"
    }
  },
  "cells": [
    {
      "cell_type": "markdown",
      "metadata": {
        "id": "view-in-github",
        "colab_type": "text"
      },
      "source": [
        "<a href=\"https://colab.research.google.com/github/maliiha/CSE221_NEW/blob/main/CSE221_LAB_04.ipynb\" target=\"_parent\"><img src=\"https://colab.research.google.com/assets/colab-badge.svg\" alt=\"Open In Colab\"/></a>"
      ]
    },
    {
      "cell_type": "markdown",
      "source": [
        "**TASK:01 (a)**"
      ],
      "metadata": {
        "id": "48XJAyUz2on9"
      }
    },
    {
      "cell_type": "code",
      "source": [
        "test_file = open (\"/content/input1(a).txt\" , mode =\"r\")\n",
        "result_file = open (\"/content/output1(a).txt\" , mode =\"w\")\n",
        "n , m = map(int, test_file.readline().split(\" \"))\n",
        "adj_matrix = [[0] * (n+1) for i in range(n+1)]\n",
        "for i in range(m):\n",
        "    u , v , w = map(int , test_file.readline().split(\" \"))\n",
        "    adj_matrix[u][v] = w\n",
        "for i in adj_matrix:\n",
        "    matrix = \"\"\n",
        "    for j in range(n+1):\n",
        "        matrix += str(i[j]) + \" \"\n",
        "    result_file.write(f\"{matrix} \\n\")\n",
        "test_file.close()\n",
        "result_file.close()"
      ],
      "metadata": {
        "id": "g3Amvxa92tq4"
      },
      "execution_count": 39,
      "outputs": []
    },
    {
      "cell_type": "markdown",
      "source": [
        "**TASK:01 (b)**"
      ],
      "metadata": {
        "id": "0tCSUGY67qqC"
      }
    },
    {
      "cell_type": "code",
      "source": [
        "test_file = open(\"/content/input1(b).txt\" , mode = \"r\")\n",
        "result_file = open (\"/content/output1(b).txt\" , mode = \"w\")\n",
        "n , m = map(int , test_file.readline().split(\" \"))\n",
        "list1 = [[] * (n+1) for i in range(n+1)]\n",
        "for i in range(m):\n",
        "    u , v , w = map(int, test_file.readline().split(\" \"))\n",
        "    list1[u] += [(v , w)]\n",
        "for i in range(0 , len(list1)):\n",
        "    adj_list = str(i) + \" \" + \":\" + \" \"\n",
        "    for j in list1[i]:\n",
        "        adj_list += f\"{j}\"\n",
        "    result_file.write(f\"{adj_list} \\n\")\n",
        "test_file.close()\n",
        "result_file.close()"
      ],
      "metadata": {
        "id": "mGmwbGX2BKHP"
      },
      "execution_count": 93,
      "outputs": []
    }
  ]
}
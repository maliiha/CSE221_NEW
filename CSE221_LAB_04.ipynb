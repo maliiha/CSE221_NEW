{
  "nbformat": 4,
  "nbformat_minor": 0,
  "metadata": {
    "colab": {
      "provenance": [],
      "authorship_tag": "ABX9TyOzXkBUtclVaaJ+IXrrrGN3",
      "include_colab_link": true
    },
    "kernelspec": {
      "name": "python3",
      "display_name": "Python 3"
    },
    "language_info": {
      "name": "python"
    }
  },
  "cells": [
    {
      "cell_type": "markdown",
      "metadata": {
        "id": "view-in-github",
        "colab_type": "text"
      },
      "source": [
        "<a href=\"https://colab.research.google.com/github/maliiha/CSE221_NEW/blob/main/CSE221_LAB_04.ipynb\" target=\"_parent\"><img src=\"https://colab.research.google.com/assets/colab-badge.svg\" alt=\"Open In Colab\"/></a>"
      ]
    },
    {
      "cell_type": "markdown",
      "source": [
        "**TASK:01 (a)**"
      ],
      "metadata": {
        "id": "48XJAyUz2on9"
      }
    },
    {
      "cell_type": "code",
      "source": [
        "test_file = open (\"/content/input1(a).txt\" , mode =\"r\")\n",
        "result_file = open (\"/content/output1(a).txt\" , mode =\"w\")\n",
        "n , m = map(int, test_file.readline().split(\" \"))\n",
        "adj_matrix = [[0] * (n+1) for i in range(n+1)]\n",
        "for i in range(m):\n",
        "    u , v , w = map(int , test_file.readline().split(\" \"))\n",
        "    adj_matrix[u][v] = w\n",
        "for i in adj_matrix:\n",
        "    matrix = \"\"\n",
        "    for j in range(n+1):\n",
        "        matrix += str(i[j]) + \" \"\n",
        "    result_file.write(f\"{matrix} \\n\")\n",
        "test_file.close()\n",
        "result_file.close()"
      ],
      "metadata": {
        "id": "g3Amvxa92tq4"
      },
      "execution_count": null,
      "outputs": []
    },
    {
      "cell_type": "markdown",
      "source": [
        "**TASK:01 (b)**"
      ],
      "metadata": {
        "id": "0tCSUGY67qqC"
      }
    },
    {
      "cell_type": "code",
      "source": [
        "test_file = open(\"/content/input1(b).txt\" , mode = \"r\")\n",
        "result_file = open (\"/content/output1(b).txt\" , mode = \"w\")\n",
        "n , m = map(int , test_file.readline().split(\" \"))\n",
        "list1 = [[] * (n+1) for i in range(n+1)]\n",
        "for i in range(m):\n",
        "    u , v , w = map(int, test_file.readline().split(\" \"))\n",
        "    list1[u] += [(v , w)]\n",
        "for i in range(0 , len(list1)):\n",
        "    adj_list = str(i) + \" \" + \":\" + \" \"\n",
        "    for j in list1[i]:\n",
        "        adj_list += f\"{j}\"\n",
        "    result_file.write(f\"{adj_list} \\n\")\n",
        "test_file.close()\n",
        "result_file.close()"
      ],
      "metadata": {
        "id": "mGmwbGX2BKHP"
      },
      "execution_count": null,
      "outputs": []
    },
    {
      "cell_type": "markdown",
      "source": [
        "**TASK:02**"
      ],
      "metadata": {
        "id": "24u9MQwxqNSf"
      }
    },
    {
      "cell_type": "code",
      "source": [
        "inp = open('input2.txt','r')\n",
        "out = open('output2.txt','w')\n",
        "n, m = map(int, inp.readline().strip().split(\" \"))\n",
        "\n",
        "adjList = []\n",
        "for i in range(n+1):\n",
        "    adjList.append([])\n",
        "\n",
        "for j in range(m):\n",
        "    n1, n2 = map(int, inp.readline().strip().split(\" \"))\n",
        "    adjList[n1] += [n2]\n",
        "    adjList[n2] += [n1]\n",
        "\n",
        "def BFS(adjL, s):\n",
        "    queue = []\n",
        "    visited = [0]*len(adjL)\n",
        "    dequeue = []\n",
        "    queue.append(s)\n",
        "    visited[s] = 1\n",
        "    while len(queue)!=0:\n",
        "       node = queue.pop(0)\n",
        "       dequeue.append(node)\n",
        "       for i in range(len(adjL[node])):\n",
        "           if visited[adjL[node][i]] == 0:\n",
        "               visited[adjL[node][i]] = 1\n",
        "               queue.append(adjL[node][i])\n",
        "    return dequeue\n",
        "\n",
        "bfsList = BFS(adjList, 1)\n",
        "\n",
        "for i in range(len(bfsList)):\n",
        "    if i <= len(bfsList) - 1:\n",
        "        print(bfsList[i], end = \" \", file = out)\n",
        "    else:\n",
        "        print(bfsList[i], file = out)\n",
        "\n",
        "inp.close()\n",
        "out.close()"
      ],
      "metadata": {
        "id": "K-tcj_vzqQWY"
      },
      "execution_count": 1,
      "outputs": []
    }
  ]
}
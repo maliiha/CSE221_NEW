{
  "nbformat": 4,
  "nbformat_minor": 0,
  "metadata": {
    "colab": {
      "provenance": [],
      "authorship_tag": "ABX9TyPU++h5bgRDci76gBH2KulM",
      "include_colab_link": true
    },
    "kernelspec": {
      "name": "python3",
      "display_name": "Python 3"
    },
    "language_info": {
      "name": "python"
    }
  },
  "cells": [
    {
      "cell_type": "markdown",
      "metadata": {
        "id": "view-in-github",
        "colab_type": "text"
      },
      "source": [
        "<a href=\"https://colab.research.google.com/github/maliiha/CSE221_NEW/blob/main/CSE221_LAB_02.ipynb\" target=\"_parent\"><img src=\"https://colab.research.google.com/assets/colab-badge.svg\" alt=\"Open In Colab\"/></a>"
      ]
    },
    {
      "cell_type": "markdown",
      "source": [
        "task: 1.1"
      ],
      "metadata": {
        "id": "9Fr53rxbAf3R"
      }
    },
    {
      "cell_type": "code",
      "source": [
        "test_file = open (\"/content/input1.1.txt\" , mode = \"r\")\n",
        "result_file = open (\"/content/output1.1.txt\" , mode = \"w\")\n",
        "N = test_file.readline()\n",
        "list1 = list(map(int,N.split(\" \")))\n",
        "list2 = list(map(int,test_file.readline().split(\" \")))\n",
        "index1 = 0\n",
        "index2 = 0\n",
        "flag = False\n",
        "i = list1[0] - 1\n",
        "while i>=0:\n",
        "    index1 = i\n",
        "    for j in range(0 , i):\n",
        "        index2 = j\n",
        "        if(list2[i] + list2[j] == list1[1]):\n",
        "            result_file.write(f\"{index2+1} {index1+1}\")\n",
        "            flag = True\n",
        "    if(flag == False):\n",
        "        i-=1\n",
        "    else:\n",
        "        break\n",
        "if(flag == False):\n",
        "    result_file.write(f\"IMPOSSIBLE\")\n",
        "test_file.close()\n",
        "result_file.close()"
      ],
      "metadata": {
        "id": "LWg5SZc9AgLe"
      },
      "execution_count": null,
      "outputs": []
    },
    {
      "cell_type": "markdown",
      "source": [
        "task: 1.2"
      ],
      "metadata": {
        "id": "QjJxnKs2Ya7f"
      }
    },
    {
      "cell_type": "code",
      "source": [],
      "metadata": {
        "id": "KLwINtuuYcLB"
      },
      "execution_count": null,
      "outputs": []
    },
    {
      "cell_type": "markdown",
      "source": [
        "task:2.1"
      ],
      "metadata": {
        "id": "OfyFnGntnl4G"
      }
    },
    {
      "cell_type": "code",
      "source": [],
      "metadata": {
        "id": "5ZbzfmgVnom3"
      },
      "execution_count": null,
      "outputs": []
    },
    {
      "cell_type": "markdown",
      "source": [
        "task: 2.2"
      ],
      "metadata": {
        "id": "JWLueVHXnoxY"
      }
    },
    {
      "cell_type": "code",
      "source": [
        "def merge_list( arr1 , arr2):\n",
        "  arr = [0] * (len(arr1) + len(arr2))\n",
        "  i = 0\n",
        "  j = 0\n",
        "  k = 0\n",
        "  while(i < len(arr1) and j < len(arr2)):\n",
        "    if(arr1[i] < arr2[j]):\n",
        "      arr[k] = arr1[i]\n",
        "      i+=1\n",
        "    else:\n",
        "      arr[k] = arr2[j]\n",
        "      j+=1\n",
        "    k+=1\n",
        "  while (i < len(arr1)):\n",
        "    arr[k] = arr1[i]\n",
        "    i+=1\n",
        "    k+=1\n",
        "  while (j < len(arr2)):\n",
        "    arr[k] = arr2[j]\n",
        "    j+=1\n",
        "    k+=1\n",
        "  return arr\n",
        "arr1 = [1, 3, 5, 7]\n",
        "arr2 = [2, 2, 4, 8]\n",
        "list1 = merge_list(arr1 , arr2)"
      ],
      "metadata": {
        "id": "6A5z3ArNnrVn"
      },
      "execution_count": null,
      "outputs": []
    },
    {
      "cell_type": "markdown",
      "source": [
        "task:03"
      ],
      "metadata": {
        "id": "nWRLJm0mnu6d"
      }
    },
    {
      "cell_type": "code",
      "source": [
        "def mergeSort(arr):\n",
        "  if len(arr) <= 1:\n",
        "    return arr\n",
        "  else:\n",
        "    mid = len(arr)//2\n",
        "    left = arr[:mid]\n",
        "    right = arr[mid:]\n",
        "    a1 = mergeSort(left)\n",
        "    a2 = mergeSort(right)\n",
        "    return merge_list(a1, a2)\n",
        "arr = mergeSort([9, 5, 4, 6, 1, 3, 2, 9])\n",
        "print(arr)"
      ],
      "metadata": {
        "id": "cO0TrG7anwp7"
      },
      "execution_count": null,
      "outputs": []
    },
    {
      "cell_type": "markdown",
      "source": [
        "task:04"
      ],
      "metadata": {
        "id": "6oOAAw4HnzUg"
      }
    },
    {
      "cell_type": "code",
      "source": [],
      "metadata": {
        "id": "I6XHahXvn01o"
      },
      "execution_count": null,
      "outputs": []
    }
  ]
}
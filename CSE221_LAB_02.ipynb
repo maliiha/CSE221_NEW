{
  "nbformat": 4,
  "nbformat_minor": 0,
  "metadata": {
    "colab": {
      "provenance": [],
      "authorship_tag": "ABX9TyMXZ2EGvNU5uD/fXRntQ6Ol",
      "include_colab_link": true
    },
    "kernelspec": {
      "name": "python3",
      "display_name": "Python 3"
    },
    "language_info": {
      "name": "python"
    }
  },
  "cells": [
    {
      "cell_type": "markdown",
      "metadata": {
        "id": "view-in-github",
        "colab_type": "text"
      },
      "source": [
        "<a href=\"https://colab.research.google.com/github/maliiha/CSE221_NEW/blob/main/CSE221_LAB_02.ipynb\" target=\"_parent\"><img src=\"https://colab.research.google.com/assets/colab-badge.svg\" alt=\"Open In Colab\"/></a>"
      ]
    },
    {
      "cell_type": "markdown",
      "source": [
        "task: 1.1"
      ],
      "metadata": {
        "id": "9Fr53rxbAf3R"
      }
    },
    {
      "cell_type": "code",
      "source": [
        "test_file = open (\"/content/input1.1.txt\" , mode = \"r\")\n",
        "result_file = open (\"/content/output1.1.txt\" , mode = \"w\")\n",
        "N = test_file.readline()\n",
        "list1 = list(map(int,N.split(\" \")))\n",
        "list2 = list(map(int,test_file.readline().split(\" \")))\n",
        "index1 = 0\n",
        "index2 = 0\n",
        "flag = False\n",
        "i = list1[0] - 1\n",
        "while i>=0:\n",
        "    index1 = i\n",
        "    for j in range(0 , i):\n",
        "        index2 = j\n",
        "        if(list2[i] + list2[j] == list1[1]):\n",
        "            result_file.write(f\"{index2+1} {index1+1}\")\n",
        "            flag = True\n",
        "    if(flag == False):\n",
        "        i-=1\n",
        "    else:\n",
        "        break\n",
        "if(flag == False):\n",
        "    result_file.write(f\"IMPOSSIBLE\")\n",
        "test_file.close()\n",
        "result_file.close()"
      ],
      "metadata": {
        "id": "LWg5SZc9AgLe"
      },
      "execution_count": 45,
      "outputs": []
    },
    {
      "cell_type": "markdown",
      "source": [
        "task: 1.2"
      ],
      "metadata": {
        "id": "QjJxnKs2Ya7f"
      }
    },
    {
      "cell_type": "code",
      "source": [],
      "metadata": {
        "id": "KLwINtuuYcLB"
      },
      "execution_count": null,
      "outputs": []
    }
  ]
}
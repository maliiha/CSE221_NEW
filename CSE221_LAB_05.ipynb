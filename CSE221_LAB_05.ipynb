{
  "nbformat": 4,
  "nbformat_minor": 0,
  "metadata": {
    "colab": {
      "provenance": [],
      "authorship_tag": "ABX9TyNJF6Q//c2ndtaWIYvzMQWZ",
      "include_colab_link": true
    },
    "kernelspec": {
      "name": "python3",
      "display_name": "Python 3"
    },
    "language_info": {
      "name": "python"
    }
  },
  "cells": [
    {
      "cell_type": "markdown",
      "metadata": {
        "id": "view-in-github",
        "colab_type": "text"
      },
      "source": [
        "<a href=\"https://colab.research.google.com/github/maliiha/CSE221_NEW/blob/main/CSE221_LAB_05.ipynb\" target=\"_parent\"><img src=\"https://colab.research.google.com/assets/colab-badge.svg\" alt=\"Open In Colab\"/></a>"
      ]
    },
    {
      "cell_type": "markdown",
      "source": [
        "TASK:01"
      ],
      "metadata": {
        "id": "99xN3ZFlf8ao"
      }
    },
    {
      "cell_type": "markdown",
      "source": [
        "(A)"
      ],
      "metadata": {
        "id": "royTDxblgHTQ"
      }
    },
    {
      "cell_type": "code",
      "source": [
        "inp=open('input1(a).txt','r')\n",
        "out=open('output1(a).txt','w')\n",
        "V,E=tuple(map(int,inp.readline().split()))\n",
        "matrix = [[] for row in range(0, V+1)]\n",
        "\n",
        "for i in range(E):\n",
        "   a,b=tuple(map(int,inp.readline().split()))\n",
        "   matrix[a].append(b)\n",
        "# print(matrix)\n",
        "\n",
        "\n",
        "cycle=''\n",
        "def topologicalSort_dfs(graph,v):\n",
        "    vis=['white']*(v+1)\n",
        "    stack=[]\n",
        "    for i in range(1,v+1):\n",
        "       if vis[i]=='white':\n",
        "          top_dfs_visit(graph,i,vis,stack)\n",
        "    return stack\n",
        "def top_dfs_visit(graph,u,vis,stack):\n",
        "    vis[u]='gray'\n",
        "    for v in graph[u]:\n",
        "       if vis[v]=='gray':\n",
        "          global cycle\n",
        "          cycle='yes'\n",
        "        #   print('h')\n",
        "       elif vis[v]=='white':\n",
        "          top_dfs_visit(graph,v,vis,stack)\n",
        "    vis[u]='black'\n",
        "    stack.append(u)\n",
        "x=topologicalSort_dfs(matrix,V)\n",
        "if cycle!='yes':\n",
        "   for i in range(len(x)-1,-1,-1):\n",
        "      out.write(str(x[i])+' ')\n",
        "else:\n",
        "   print('Impossible',file=out)"
      ],
      "metadata": {
        "id": "fUnHoWTof8kq"
      },
      "execution_count": null,
      "outputs": []
    },
    {
      "cell_type": "markdown",
      "source": [
        "(B)"
      ],
      "metadata": {
        "id": "vQ56qFFeBxet"
      }
    },
    {
      "cell_type": "code",
      "source": [
        "inp=open('/content/input1(b).txt','r')\n",
        "out=open('/content/output1b.txt','w')\n",
        "V,E=tuple(map(int,inp.readline().split()))\n",
        "adjL = [[] for row in range(0, V+1)]\n",
        "\n",
        "for i in range(E):\n",
        "   a,b=tuple(map(int,inp.readline().split()))\n",
        "   adjL[a].append(b)\n",
        "print(adjL)\n",
        "\n",
        "def topologicalSort(graph,V):\n",
        "\n",
        "    in_degree = [0]*(V+1)\n",
        "\n",
        "    for i in range(1,len(graph)):\n",
        "        for j in graph[i]:\n",
        "            in_degree[j] += 1\n",
        "\n",
        "\n",
        "    queue = []\n",
        "    for i in range(1,V+1):\n",
        "        if in_degree[i] == 0:\n",
        "            queue.append(i)\n",
        "\n",
        "\n",
        "    cnt = 0\n",
        "    top_order = []\n",
        "    while queue:\n",
        "\n",
        "        u = queue.pop(0)\n",
        "        top_order.append(u)\n",
        "\n",
        "        for i in graph[u]:\n",
        "            in_degree[i] -= 1\n",
        "\n",
        "            if in_degree[i] == 0:\n",
        "                queue.append(i)\n",
        "\n",
        "        cnt += 1\n",
        "\n",
        "    if cnt != V:\n",
        "        print (\"Impossible\",file=out)\n",
        "    else :\n",
        "        for i in top_order:\n",
        "            out.write(str(i)+' ')\n",
        "\n",
        "\n",
        "\n",
        "topologicalSort(adjL,V)"
      ],
      "metadata": {
        "id": "FDsjPVZPByw5",
        "outputId": "e9f73767-c12a-41eb-d2a7-f87901beb63d",
        "colab": {
          "base_uri": "https://localhost:8080/"
        }
      },
      "execution_count": 3,
      "outputs": [
        {
          "output_type": "stream",
          "name": "stdout",
          "text": [
            "[[], [2, 4], [4, 5, 3], [], [6, 5], [3], [5], [8], []]\n"
          ]
        }
      ]
    },
    {
      "cell_type": "markdown",
      "source": [
        "task:02"
      ],
      "metadata": {
        "id": "1-sJkISK-chz"
      }
    },
    {
      "cell_type": "code",
      "source": [
        "import heapq\n",
        "\n",
        "inp=open('/content/input2.txt','r')\n",
        "out=open('/content/output2_3.txt','w')\n",
        "V,E=tuple(map(int,inp.readline().split()))\n",
        "adjL = [[] for row in range(0, V+1)]\n",
        "\n",
        "for i in range(E):\n",
        "   a,b=tuple(map(int,inp.readline().split()))\n",
        "   adjL[a].append(b)\n",
        "print(adjL)\n",
        "\n",
        "def topologicalSort(graph,V):\n",
        "\n",
        "    in_degree = [0]*(V+1)\n",
        "\n",
        "    for i in range(1,len(graph)):\n",
        "        for j in graph[i]:\n",
        "            in_degree[j] += 1\n",
        "\n",
        "\n",
        "    Q = []\n",
        "    for i in range(1,V+1):\n",
        "        if in_degree[i] == 0:\n",
        "            heapq.heappush(Q,i)\n",
        "\n",
        "\n",
        "    cnt = 0\n",
        "    top_order = []\n",
        "    while Q:\n",
        "\n",
        "        u = heapq.heappop(Q)\n",
        "        top_order.append(u)\n",
        "\n",
        "        for i in graph[u]:\n",
        "            in_degree[i] -= 1\n",
        "\n",
        "            if in_degree[i] == 0:\n",
        "                heapq.heappush(Q,i)\n",
        "\n",
        "        cnt += 1\n",
        "\n",
        "    if cnt != V:\n",
        "        print (\"Impossible\",file=out)\n",
        "    else :\n",
        "        for i in top_order:\n",
        "            out.write(str(i)+' ')\n",
        "\n",
        "\n",
        "\n",
        "topologicalSort(adjL,V)"
      ],
      "metadata": {
        "id": "7UbaO5H9-dsV",
        "outputId": "94c2091c-6929-43ae-9d93-af01a236be3c",
        "colab": {
          "base_uri": "https://localhost:8080/"
        }
      },
      "execution_count": 7,
      "outputs": [
        {
          "output_type": "stream",
          "name": "stdout",
          "text": [
            "[[], [2], [], [1], [5], []]\n"
          ]
        }
      ]
    },
    {
      "cell_type": "markdown",
      "source": [
        "task:03"
      ],
      "metadata": {
        "id": "ZoZckI6R-d2l"
      }
    },
    {
      "cell_type": "code",
      "source": [
        "inp=open('/content/input3_3.txt','r')\n",
        "V,e=tuple(map(int,inp.readline().split()))\n",
        "graph=[[] for i in range(V+1)]\n",
        "for i in range(e):\n",
        "   u,v=tuple(map(int,inp.readline().split()))\n",
        "   graph[u].append(v)\n",
        "print(graph)\n",
        "\n",
        "\n",
        "def top_sort(G,V):            #topological sort er code\n",
        "   stack=[]\n",
        "   global col\n",
        "   col=['white']*(V+1)\n",
        "   for i in range(1,V+1):\n",
        "      if col[i]=='white':\n",
        "         top_dfs_vis(G,i,col,stack)\n",
        "   return stack\n",
        "\n",
        "def top_dfs_vis(G,u,col,stack):          #topological sort er jonno ei func. this is a bit different than normal dfs bcz ekhane stack e append kori after finishing its work. task1(a) basically\n",
        "   col[u]='gray'\n",
        "   for v in graph[u]:\n",
        "     if col[v]=='white':\n",
        "        top_dfs_vis(G,v,col,stack)\n",
        "   stack.append(u)                     #top sort code done\n",
        "\n",
        "\n",
        "\n",
        "\n",
        "def SSC(graph,V):\n",
        "\n",
        "    top_order=top_sort(graph,V)     #topological sort er stack ta ekhane ashbe. ekhan theke pop(LIFO) kore baki kaj kora jbe\n",
        "\n",
        "\n",
        "    #transposing the graph\n",
        "    trans_graph=[[] for i in range(V+1)]\n",
        "    for u in range(1,V+1):\n",
        "      for v in graph[u]:\n",
        "        trans_graph[v].append(u)\n",
        "    #print(trans_graph)\n",
        "\n",
        "\n",
        "    ssc_cnt=0\n",
        "    global col\n",
        "    col=['white']*(V+1)         #color er array ta ke abar initialize kore neya lagse\n",
        "    while len(top_order)!=0:\n",
        "       u=top_order.pop()\n",
        "       if col[u]=='white':\n",
        "          ssc_cnt+=1\n",
        "          print(f'SSC {ssc_cnt}: ',end='')\n",
        "          print(str(u),end='')           #printing milanor jonno kapjhap\n",
        "          dfs_visit(trans_graph,u,col)\n",
        "          print()                       #dummy print for new line\n",
        "\n",
        "def dfs_visit(trans_graph,u,col):\n",
        "   col[u]='gray'\n",
        "   for v in trans_graph[u]:\n",
        "      if col[v]=='white':\n",
        "          dfs_visit(trans_graph,v,col)\n",
        "          print(str(v),end='')\n",
        "\n",
        "\n",
        "\n",
        "X=SSC(graph,V)"
      ],
      "metadata": {
        "id": "0msw462u-fCS"
      },
      "execution_count": null,
      "outputs": []
    }
  ]
}
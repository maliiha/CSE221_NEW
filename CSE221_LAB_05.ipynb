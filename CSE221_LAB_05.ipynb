{
  "nbformat": 4,
  "nbformat_minor": 0,
  "metadata": {
    "colab": {
      "provenance": [],
      "authorship_tag": "ABX9TyNwszGVLv7ajD4XefM7mYdg",
      "include_colab_link": true
    },
    "kernelspec": {
      "name": "python3",
      "display_name": "Python 3"
    },
    "language_info": {
      "name": "python"
    }
  },
  "cells": [
    {
      "cell_type": "markdown",
      "metadata": {
        "id": "view-in-github",
        "colab_type": "text"
      },
      "source": [
        "<a href=\"https://colab.research.google.com/github/maliiha/CSE221_NEW/blob/main/CSE221_LAB05.ipynb\" target=\"_parent\"><img src=\"https://colab.research.google.com/assets/colab-badge.svg\" alt=\"Open In Colab\"/></a>"
      ]
    },
    {
      "cell_type": "markdown",
      "source": [
        "TASK:01"
      ],
      "metadata": {
        "id": "99xN3ZFlf8ao"
      }
    },
    {
      "cell_type": "markdown",
      "source": [
        "(A)"
      ],
      "metadata": {
        "id": "royTDxblgHTQ"
      }
    },
    {
      "cell_type": "code",
      "source": [
        "test_file = open(\"/content/input1(a).txt\", mode =\"r\")\n",
        "result_file = open(\"/content/output1(a).txt\",mode = \"w\")\n",
        "\n",
        "test_file.close()\n",
        "result_file.close()"
      ],
      "metadata": {
        "id": "fUnHoWTof8kq"
      },
      "execution_count": null,
      "outputs": []
    },
    {
      "cell_type": "code",
      "source": [
        "#Task 1(a) using coloring method\n",
        "\n",
        "inp=open('/content/input1(a).txt','r')\n",
        "out=open('/content/output1a.txt','w')\n",
        "V,E=tuple(map(int,inp.readline().split()))\n",
        "matrix = [[] for row in range(0, V+1)]\n",
        "\n",
        "for i in range(E):\n",
        "   a,b=tuple(map(int,inp.readline().split()))\n",
        "   matrix[a].append(b)\n",
        "print(matrix)\n",
        "\n",
        "\n",
        "cycle=''\n",
        "def topologicalSort_dfs(graph,v):\n",
        "    vis=['white']*(v+1)\n",
        "    stack=[]\n",
        "    for i in range(1,v+1):\n",
        "       if vis[i]=='white':\n",
        "          top_dfs_visit(graph,i,vis,stack)\n",
        "    return stack\n",
        "\n",
        "\n",
        "\n",
        "def top_dfs_visit(graph,u,vis,stack):\n",
        "    vis[u]='gray'\n",
        "    for v in graph[u]:\n",
        "\n",
        "       if vis[v]=='gray':        #check if there is a cycle or not\n",
        "          global cycle\n",
        "          cycle='yes'\n",
        "          print('h')\n",
        "       elif vis[v]=='white':\n",
        "          top_dfs_visit(graph,v,vis,stack)\n",
        "\n",
        "    vis[u]='black'\n",
        "    stack.append(u)     # only push in the stack after it has no neighbour to visit (either all neighbour are visited or has no neighbour)..\n",
        "                         #pushing in stack here is different from normal dfs code where i pushed a node as soon as it gets visited\n",
        "                         # but here i pushed it after all its neighbour got visited in other words after its work is done\n",
        "\n",
        "\n",
        "\n",
        "x=topologicalSort_dfs(matrix,V)\n",
        "if cycle!='yes':\n",
        "   for i in range(len(x)-1,-1,-1):\n",
        "      out.write(str(x[i])+' ')\n",
        "else:\n",
        "   print('Impossible',fie=out)l"
      ],
      "metadata": {
        "colab": {
          "base_uri": "https://localhost:8080/"
        },
        "id": "2l49saiJ_vgT",
        "outputId": "ff469061-bffb-4e6d-8664-fbd6ce17497a"
      },
      "execution_count": 6,
      "outputs": [
        {
          "output_type": "stream",
          "name": "stdout",
          "text": [
            "[[], [2], [3], [], [3, 5], [6], [4]]\n",
            "h\n"
          ]
        }
      ]
    },
    {
      "cell_type": "markdown",
      "source": [
        "(B)"
      ],
      "metadata": {
        "id": "vQ56qFFeBxet"
      }
    },
    {
      "cell_type": "code",
      "source": [
        "from collections import deque\n",
        "\n",
        "f1= open(\"input1(b).txt\", 'r')\n",
        "f2= open(\"output1(b)_2.txt\", 'w')\n",
        "N, M= map(int, f1.readline().split())\n",
        "Prerequisite_List= [tuple(map(int, f1.readline().split())) for _ in range(M)]\n",
        "\n",
        "def BFS_Order(N, Prerequisite_List):\n",
        "    Graph= {i: [] for i in range(1, N+1)}\n",
        "    in_degree= {i: 0 for i in range(1, N+1)}\n",
        "    for u, v in Prerequisite_List:\n",
        "        Graph[u].append(v)\n",
        "        in_degree[v]= in_degree[v] + 1\n",
        "\n",
        "    Queue= deque()\n",
        "    Result= []\n",
        "\n",
        "    for i in range(1, N+1):\n",
        "        if in_degree[i]== 0:\n",
        "            Queue.append(i)\n",
        "\n",
        "    while Queue:\n",
        "        Course= Queue.popleft()\n",
        "        Result.append(Course)\n",
        "        for Neighbor in Graph[Course]:\n",
        "            in_degree[Neighbor]= in_degree[Neighbor] + 1\n",
        "            if in_degree[Neighbor]== 0:\n",
        "                Queue.append(Neighbor)\n",
        "\n",
        "    if len(Result)== N:\n",
        "        return Result\n",
        "    else:\n",
        "        None\n",
        "\n",
        "Order= BFS_Order(N, Prerequisite_List)\n",
        "if Order== None:\n",
        "    print(\"IMPOSSIBLE\", file= f2)\n",
        "else:\n",
        "    print(*Order, file= f2)\n",
        "\n",
        "f1.close()\n",
        "f2.close()"
      ],
      "metadata": {
        "id": "FDsjPVZPByw5"
      },
      "execution_count": 12,
      "outputs": []
    }
  ]
}

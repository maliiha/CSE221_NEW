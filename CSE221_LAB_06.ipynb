{
  "nbformat": 4,
  "nbformat_minor": 0,
  "metadata": {
    "colab": {
      "provenance": [],
      "authorship_tag": "ABX9TyMRe9WYwtV1v4C/SNe32SSK",
      "include_colab_link": true
    },
    "kernelspec": {
      "name": "python3",
      "display_name": "Python 3"
    },
    "language_info": {
      "name": "python"
    }
  },
  "cells": [
    {
      "cell_type": "markdown",
      "metadata": {
        "id": "view-in-github",
        "colab_type": "text"
      },
      "source": [
        "<a href=\"https://colab.research.google.com/github/maliiha/CSE221_NEW/blob/main/CSE221_LAB_06.ipynb\" target=\"_parent\"><img src=\"https://colab.research.google.com/assets/colab-badge.svg\" alt=\"Open In Colab\"/></a>"
      ]
    },
    {
      "cell_type": "markdown",
      "source": [
        "**TASK:01**"
      ],
      "metadata": {
        "id": "P7P0PIHSPo7z"
      }
    },
    {
      "cell_type": "code",
      "source": [
        "import heapq\n",
        "inp=open('/content/input1.txt','r')\n",
        "out=open('/content/output1.txt','w')\n",
        "v,e=tuple(map(int,inp.readline().split()))\n",
        "graph=[[] for j in range(v+1)]\n",
        "for i in range(e):\n",
        "   a,b,c=tuple(map(int,inp.readline().split()))\n",
        "   graph[a].append((b,c))\n",
        "source=int(inp.readline())\n",
        "print(graph)\n",
        "\n",
        "\n",
        "def dijkstra(src,v):\n",
        "   dis=[99999]*(v+1)\n",
        "   dis[src]=0\n",
        "   col=['white']*(v+1)\n",
        "#    par=[-1]*(v+1)\n",
        "   priority_Q= []\n",
        "   heapq.heappush(priority_Q,(dis[src],src))\n",
        "\n",
        "   while priority_Q:\n",
        "     curr_dis,curr=heapq.heappop(priority_Q)\n",
        "     col[curr]='gray'\n",
        "     for v in graph[curr]:\n",
        "        if col[v[0]]=='white' and dis[v[0]]> dis[curr] + v[1]:\n",
        "            dis[v[0]]=curr_dis + v[1]\n",
        "            # par[v[0]]=curr\n",
        "            heapq.heappush(priority_Q,(dis[v[0]],v[0]))\n",
        "   return dis\n",
        "\n",
        "x=dijkstra(source,v)\n",
        "for i in range(1,len(x)):\n",
        "   if x[i]==99999:\n",
        "      print(-1,end=' ')\n",
        "   else:\n",
        "      print(x[i],end=' ')"
      ],
      "metadata": {
        "id": "GY0V8HqqPpHf"
      },
      "execution_count": null,
      "outputs": []
    },
    {
      "cell_type": "markdown",
      "source": [
        "**TASK:02**"
      ],
      "metadata": {
        "id": "zkPMI7x-dO3_"
      }
    },
    {
      "cell_type": "code",
      "source": [
        "import heapq\n",
        "inp=open('/content/input2.txt','r')\n",
        "out=open('/content/output2.txt','w')\n",
        "v,e=tuple(map(int,inp.readline().split()))\n",
        "graph=[[] for j in range(v+1)]\n",
        "for i in range(e):\n",
        "   a,b,c=tuple(map(int,inp.readline().split()))\n",
        "   graph[a].append((b,c))\n",
        "source1,source2=tuple(map(int,inp.readline().split()))\n",
        "print(graph)\n",
        "\n",
        "\n",
        "def dijkstra(src,v):\n",
        "   dis=[99999]*(v+1)\n",
        "   dis[src]=0\n",
        "   col=['white']*(v+1)\n",
        "   par=[-1]*(v+1)\n",
        "   priority_Q= []\n",
        "   heapq.heappush(priority_Q,(dis[src],src))\n",
        "\n",
        "   while priority_Q:\n",
        "     curr_dis,curr=heapq.heappop(priority_Q)\n",
        "     col[curr]='gray'\n",
        "     for v in graph[curr]:\n",
        "        if col[v[0]]=='white' and dis[v[0]]> dis[curr] + v[1]:\n",
        "            dis[v[0]]=curr_dis + v[1]\n",
        "            par[v[0]]=curr\n",
        "            heapq.heappush(priority_Q,(dis[v[0]],v[0]))\n",
        "   return dis[1::]\n",
        "\n",
        "arr1=dijkstra(source1,v)\n",
        "arr2=dijkstra(source2,v)\n",
        "#print(arr1)\n",
        "#print(arr2)\n",
        "min=99999\n",
        "min_node=-1\n",
        "for i in range(0,len(arr1)):\n",
        "     if min>max(arr1[i],arr2[i]):\n",
        "       min=max(arr1[i],arr2[i])\n",
        "       min_node=i+1\n",
        "if min_node!=-1:\n",
        "    print('time: ',min)\n",
        "    print('Node: ',min_node)\n",
        "else:\n",
        "    print('Impossible')"
      ],
      "metadata": {
        "id": "PmFumpocQdL6",
        "colab": {
          "base_uri": "https://localhost:8080/"
        },
        "outputId": "2da8a50f-2c36-4867-bf64-a177e966e551"
      },
      "execution_count": 3,
      "outputs": [
        {
          "output_type": "stream",
          "name": "stdout",
          "text": [
            "[[], [(2, 1)], [(3, 2)], [], [(3, 5)]]\n",
            "time:  5\n",
            "Node:  3\n"
          ]
        }
      ]
    }
  ]
}
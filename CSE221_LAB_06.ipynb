{
  "nbformat": 4,
  "nbformat_minor": 0,
  "metadata": {
    "colab": {
      "provenance": [],
      "authorship_tag": "ABX9TyN7/nnNxosakgAzgok/Z1AY",
      "include_colab_link": true
    },
    "kernelspec": {
      "name": "python3",
      "display_name": "Python 3"
    },
    "language_info": {
      "name": "python"
    }
  },
  "cells": [
    {
      "cell_type": "markdown",
      "metadata": {
        "id": "view-in-github",
        "colab_type": "text"
      },
      "source": [
        "<a href=\"https://colab.research.google.com/github/maliiha/CSE221_NEW/blob/main/CSE221_LAB_06.ipynb\" target=\"_parent\"><img src=\"https://colab.research.google.com/assets/colab-badge.svg\" alt=\"Open In Colab\"/></a>"
      ]
    },
    {
      "cell_type": "markdown",
      "source": [
        "**TASK:01**"
      ],
      "metadata": {
        "id": "P7P0PIHSPo7z"
      }
    },
    {
      "cell_type": "code",
      "source": [
        "test_file = open(\"/content/input1.txt\" , mode =\"r\")\n",
        "result_file = open(\"/content/output1.txt\" , mode = \"w\")\n",
        "n , m = map(int, test_file.readline().split(\" \"))\n",
        "graph = [[-1] * n for i in range(n)]\n",
        "for i in range(m):\n",
        "    u , v , w = map(int, test_file.readline().split(\" \"))\n",
        "    graph[u-1][v-1] = w\n",
        "src = int(test_file.readline())\n",
        "dist = [float(\"infinity\") * n for i in range(n)]\n",
        "visited = [False for i in range(n)]\n",
        "dist[src-1] = 0\n",
        "for a in range(n):\n",
        "    min_dist = float(\"infinity\")\n",
        "    min_node = -1\n",
        "    for b in range(n):\n",
        "        if(visited[b] == False and dist[b]<min_dist):\n",
        "            min_dist = dist[b]\n",
        "            min_node = b\n",
        "    if(visited[min_node] == \"-1\"):\n",
        "        break\n",
        "    else:\n",
        "        visited[min_node] = True\n",
        "    for c in range(n):\n",
        "        if(graph[min_node][c] != -1):\n",
        "            new_dist = dist[min_node] + graph[min_node][c]\n",
        "            if(new_dist < dist[c]):\n",
        "                dist[c] = new_dist\n",
        "for i in range(n):\n",
        "    if(dist[i] == float(\"infinity\")):\n",
        "        result_file.write(f\"-1 \")\n",
        "    else:\n",
        "        result_file.write(f\"{dist[i]} \")\n",
        "test_file.close()\n",
        "result_file.close()"
      ],
      "metadata": {
        "id": "GY0V8HqqPpHf"
      },
      "execution_count": 25,
      "outputs": []
    },
    {
      "cell_type": "markdown",
      "source": [
        "**TASK:02**"
      ],
      "metadata": {
        "id": "zkPMI7x-dO3_"
      }
    },
    {
      "cell_type": "code",
      "source": [],
      "metadata": {
        "id": "PmFumpocQdL6"
      },
      "execution_count": null,
      "outputs": []
    }
  ]
}